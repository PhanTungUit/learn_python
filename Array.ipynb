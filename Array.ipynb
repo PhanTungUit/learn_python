{
 "cells": [
  {
   "cell_type": "code",
   "execution_count": null,
   "metadata": {},
   "outputs": [],
   "source": [
    "Cấu trúc cơ bản nhất để lưu trữ và truy cập tập hợp dữ liệu là mảng.\n",
    "Mảng có thể được sử dụng để giải quyết một loạt các vấn đề trong khoa học máy tính.\n",
    "Hầu hết các ngôn ngữ lập trình cung cấp kiểu dữ liệu có cấu trúc này dưới dạng nguyên thủy\n",
    "và cho phép tạo các mảng với nhiều chiều.  Trong chương này, chúng ta triển khai cấu trúc mảng \n",
    "cho mảng một chiều và sau đó sử dụng nó để triển khai mảng hai chiều và cấu trúc ma trận liên quan.\n",
    "\n",
    "2.1 Cấu trúc mảng\n",
    "\n",
    "Ở cấp độ phần cứng, hầu hết các kiến trúc máy tính đều cung cấp cơ chế tạo và sử dụng mảng một chiều.\n",
    "Mảng một chiều, như minh họa trong Hình 2.1, bao gồm nhiều phần tử tuần tự được lưu trữ trong các byte\n",
    "bộ nhớ liền kề và cho phép truy cập ngẫu nhiên vào các phần tử riêng lẻ.  Toàn bộ nội dung của một mảng \n",
    "được xác định bằng một tên duy nhất.  Các phần tử riêng lẻ trong mảng có thể được truy cập trực tiếp bằng \n",
    "cách chỉ định một chỉ số con số nguyên hoặc giá trị chỉ số, chỉ số này cho biết một khoảng chênh lệch so với đầu mảng.\n",
    "Điều này tương tự như ký hiệu toán học (xi), cho phép nhiều biến cùng tên.  Sự khác biệt là các ngôn ngữ lập trình\n",
    "thường sử dụng dấu ngoặc vuông theo sau tên mảng để chỉ định chỉ số con, x [i].\n",
    "\n",
    "2.2 Kiểu dữ liệu trừu tượng của mảng\n",
    "\n",
    "Mảng một chiều là tập hợp các phần tử liền nhau trong đó các phần tử riêng lẻ được xác định bằng một\n",
    "chỉ số con số nguyên duy nhất bắt đầu bằng số không.  Khi một mảng được tạo, không thể thay đổi kích thước của mảng.  \n",
    "*  Array (size): Tạo mảng một chiều bao gồm các phần tử size với mỗi phần tử ban đầu được đặt là Không có. \n",
    "                size phải lớn hơn 0. \n",
    "*  length (): Trả về độ dài hoặc số phần tử trong mảng. \n",
    "*  getitem (index): Trả về giá trị được lưu trữ trong mảng tại index vị trí phần tử. \n",
    "                      Đối số index phải nằm trong phạm vi hợp lệ.  Được truy cập bằng toán tử chỉ số dưới.  \n",
    "*  setitem (( index, value ): Sửa đổi nội dung của phần tử mảng tại index cvị trí để chứa giá trị.  \n",
    "                                index phải nằm trong phạm vi hợp lệ.  Được truy cập bằng toán tử chỉ số dưới.  \n",
    "*  clearing( value ): Xóa mảng bằng cách đặt mọi phần tử thành giá trị.  \n",
    "*  iterator (): Tạo và trả về một trình vòng lặp có thể được sử dụng để duyệt qua các phần tử của mảng\n"
   ]
  },
  {
   "cell_type": "code",
   "execution_count": 42,
   "metadata": {
    "scrolled": false
   },
   "outputs": [
    {
     "name": "stdout",
     "output_type": "stream",
     "text": [
      "0.5526335708028001\n",
      "0.1558512331519244\n",
      "0.25339866969580127\n",
      "0.11526945497157515\n",
      "0.7873095750872648\n"
     ]
    }
   ],
   "source": [
    "import random\n",
    "valueList = [0]*5\n",
    "for i in range(len(valueList)):\n",
    "    valueList[i] = random.random()\n",
    "for value in valueList:\n",
    "    print(value)"
   ]
  },
  {
   "cell_type": "code",
   "execution_count": null,
   "metadata": {},
   "outputs": [],
   "source": []
  }
 ],
 "metadata": {
  "kernelspec": {
   "display_name": "Python 3",
   "language": "python",
   "name": "python3"
  },
  "language_info": {
   "codemirror_mode": {
    "name": "ipython",
    "version": 3
   },
   "file_extension": ".py",
   "mimetype": "text/x-python",
   "name": "python",
   "nbconvert_exporter": "python",
   "pygments_lexer": "ipython3",
   "version": "3.8.3"
  }
 },
 "nbformat": 4,
 "nbformat_minor": 4
}
