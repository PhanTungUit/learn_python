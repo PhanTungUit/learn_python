{
 "cells": [
  {
   "cell_type": "code",
   "execution_count": 10,
   "metadata": {},
   "outputs": [],
   "source": [
    "def simpleArraySum(n, ar):\n",
    "    m = 1\n",
    "    a = ar[0]\n",
    "    while m < n:\n",
    "        a = a + ar[m]\n",
    "        m = m + 1\n",
    "    return a\n"
   ]
  },
  {
   "cell_type": "code",
   "execution_count": 19,
   "metadata": {},
   "outputs": [
    {
     "data": {
      "text/plain": [
       "[5, 4, 5, 4]"
      ]
     },
     "execution_count": 19,
     "metadata": {},
     "output_type": "execute_result"
    }
   ],
   "source": [
    "b = [5,4]\n",
    "b=b*2\n",
    "b"
   ]
  },
  {
   "cell_type": "code",
   "execution_count": 18,
   "metadata": {},
   "outputs": [
    {
     "data": {
      "text/plain": [
       "[5, 4, 4]"
      ]
     },
     "execution_count": 18,
     "metadata": {},
     "output_type": "execute_result"
    }
   ],
   "source": [
    "del b[2]\n",
    "b\n",
    "#Xóa"
   ]
  },
  {
   "cell_type": "code",
   "execution_count": 23,
   "metadata": {},
   "outputs": [
    {
     "data": {
      "text/plain": [
       "[5, 5]"
      ]
     },
     "execution_count": 23,
     "metadata": {},
     "output_type": "execute_result"
    }
   ],
   "source": [
    "b[0:3:2]\n"
   ]
  },
  {
   "cell_type": "code",
   "execution_count": 29,
   "metadata": {},
   "outputs": [
    {
     "name": "stdout",
     "output_type": "stream",
     "text": [
      "Mang a la:  [[20, 69, 23, 32], [16, 94, 29, 70], [13, 63, 90, 5], [18, 13, 10, 73]]\n",
      "Mang b la:  [[75, 48, 97, 97], [55, 15, 33, 14], [50, 63, 96, 83], [29, 51, 3, 59]]\n",
      "638\n"
     ]
    }
   ],
   "source": [
    "import random\n",
    "\n",
    "a = []\n",
    "b = []\n",
    "for i in range(0,4):\n",
    "    a.append([])\n",
    "    b.append([])\n",
    "    for j in range(0,4):\n",
    "        val = random.randint(0,100)\n",
    "        val1 = random.randint(0,100)\n",
    "        a[i].append(val)\n",
    "        b[i].append(val1)\n",
    "print(\"Mang a la: \" , a)\n",
    "print(\"Mang b la: \" , b)\n",
    "sum = 0\n",
    "for i in range(len(a)):\n",
    "    for j in range(len(a)):\n",
    "        sum += a[i][j]\n",
    "print(sum)\n",
    "    "
   ]
  },
  {
   "cell_type": "code",
   "execution_count": 36,
   "metadata": {},
   "outputs": [
    {
     "name": "stdout",
     "output_type": "stream",
     "text": [
      "94\n",
      "5\n"
     ]
    }
   ],
   "source": [
    "import time\n",
    "max= -10**9\n",
    "min = 10**9\n",
    "for i in range(len(a)):\n",
    "    for j in range(len(a)):\n",
    "        if max<a[i][j]:\n",
    "            max = a[i][j]\n",
    "        if min>a[i][j]:\n",
    "            min = a[i][j]\n",
    "print(max)\n",
    "print(min)"
   ]
  },
  {
   "cell_type": "code",
   "execution_count": null,
   "metadata": {},
   "outputs": [],
   "source": [
    "def MAXMIN(a, n): \n",
    "  \n",
    "    MIN = 10**9\n",
    "    MAX = -10**9 \n",
    "    for i in range(n): \n",
    "        for j in range(n): #n // 2 + 1\n",
    "           #if (a[i][j] > a[i][n - j - 1]): \n",
    "            if (MIN > a[i][j]): \n",
    "                MIN = a[i][j] \n",
    "            if (MAX< a[i][j]): \n",
    "                MAX = a[i][j] \n",
    "            else: \n",
    "                if (MIN > a[i][j]): \n",
    "                    MIN = a[i][j] \n",
    "                if (MAX< a[i][n - j - 1]):\n",
    "                    MAX = a[i][n - j - 1] \n",
    "  \n",
    "    print(\"MAX =\", MAX, \", MIN =\", MIN)\n",
    "MAXMIN(a,len(a))"
   ]
  }
 ],
 "metadata": {
  "kernelspec": {
   "display_name": "Python 3",
   "language": "python",
   "name": "python3"
  },
  "language_info": {
   "codemirror_mode": {
    "name": "ipython",
    "version": 3
   },
   "file_extension": ".py",
   "mimetype": "text/x-python",
   "name": "python",
   "nbconvert_exporter": "python",
   "pygments_lexer": "ipython3",
   "version": "3.8.3"
  }
 },
 "nbformat": 4,
 "nbformat_minor": 4
}
