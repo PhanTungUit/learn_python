{
 "cells": [
  {
   "cell_type": "code",
   "execution_count": 37,
   "metadata": {},
   "outputs": [
    {
     "name": "stdout",
     "output_type": "stream",
     "text": [
      "Mang a la:  [[24, 60, 95, 34], [29, 37, 15, 57], [28, 73, 17, 88], [92, 71, 1, 51]]\n",
      "Mang b la:  [[86, 74, 94, 92], [6, 41, 76, 10], [14, 20, 23, 96], [86, 52, 35, 0]]\n"
     ]
    }
   ],
   "source": [
    "import random\n",
    "\n",
    "a = []\n",
    "b = []\n",
    "for i in range(0,4):\n",
    "    a.append([])\n",
    "    b.append([])\n",
    "    for j in range(0,4):\n",
    "        val = random.randint(0,100)\n",
    "        val1 = random.randint(0,100)\n",
    "        a[i].append(val)\n",
    "        b[i].append(val1)\n",
    "print(\"Mang a la: \" , a)\n",
    "print(\"Mang b la: \" , b)"
   ]
  },
  {
   "cell_type": "code",
   "execution_count": 38,
   "metadata": {},
   "outputs": [
    {
     "name": "stdout",
     "output_type": "stream",
     "text": [
      "Mang a la:  [[90, 98, 32, 99], [39, 93, 13, 10], [66, 27, 78, 20], [14, 29, 88, 69]]\n",
      "Mang b la:  [[13, 27, 22, 5], [79, 40, 6, 34], [17, 27, 22, 3], [96, 93, 54, 30]]\n",
      "Mang a + b la:  [[103, 125, 54, 104], [118, 133, 19, 44], [83, 54, 100, 23], [110, 122, 142, 99]]\n"
     ]
    }
   ],
   "source": [
    "import random\n",
    "\n",
    "a = []\n",
    "b = []\n",
    "c = []\n",
    "for i in range(0,4):\n",
    "    a.append([])\n",
    "    b.append([])\n",
    "    c.append([])\n",
    "    for j in range(0,4):\n",
    "        val = random.randint(0,100)\n",
    "        val1 = random.randint(0,100)\n",
    "        a[i].append(val)\n",
    "        b[i].append(val1)\n",
    "        c[i].append(val+val1)\n",
    "print(\"Mang a la: \" , a)\n",
    "print(\"Mang b la: \" , b)\n",
    "print(\"Mang a + b la: \" , c)"
   ]
  },
  {
   "cell_type": "code",
   "execution_count": 162,
   "metadata": {},
   "outputs": [
    {
     "name": "stdout",
     "output_type": "stream",
     "text": [
      "Mang a la:  [[56, 41, 18, 14], [21, 60, 95, 68], [91, 45, 71, 30], [19, 76, 39, 95]]\n",
      "Mang b la:  [[49, 9, 31, 36], [45, 27, 95, 89], [82, 50, 70, 41], [82, 37, 31, 31]]\n",
      "Trung binh cac phan tu trong mang a la:  52.4375\n",
      "Trung binh cac phan tu trong mang a la:  50.3125\n",
      "Tong thoi gian thuc hien: 0.001202s\n"
     ]
    }
   ],
   "source": [
    "import random\n",
    "import time\n",
    "\n",
    "start_time = time.time()\n",
    "a = []\n",
    "b = []\n",
    "resultA = 0\n",
    "resultB = 0\n",
    "lengA = 0\n",
    "lengB = 0\n",
    "for i in range(0,4):\n",
    "    a.append([])\n",
    "    b.append([])\n",
    "    for j in range(0,4):\n",
    "        val = random.randint(0,100)\n",
    "        resultA += val\n",
    "        val1 = random.randint(0,100)\n",
    "        resultB += val1\n",
    "        a[i].append(val)\n",
    "        lengA += 1\n",
    "        b[i].append(val1)\n",
    "        lengB += 1\n",
    "resultA /= lengA\n",
    "resultB /= lengB\n",
    "end_time = time.time()\n",
    "print(\"Mang a la: \" , a)\n",
    "print(\"Mang b la: \" , b)\n",
    "print('Trung binh cac phan tu trong mang a la: ' , resultA)\n",
    "print('Trung binh cac phan tu trong mang a la: ' , resultB)\n",
    "print('Tong thoi gian thuc hien: %fs' % (end_time - start_time))\n"
   ]
  },
  {
   "cell_type": "code",
   "execution_count": 163,
   "metadata": {},
   "outputs": [
    {
     "name": "stdout",
     "output_type": "stream",
     "text": [
      "Mang a la:\n",
      "  [[50 65 54 97]\n",
      " [ 5  4 50 95]\n",
      " [80 26 48 70]\n",
      " [88  2 39 47]]\n",
      "Mang b la:\n",
      "  [15 71 45 29]\n",
      "Trung binh cac phan tu trong mang a la:  51.25\n",
      "Trung binh cac phan tu trong mang a la:  40.0\n",
      "Tong thoi gian thuc hien: 0.001002s\n"
     ]
    }
   ],
   "source": [
    "import numpy as np\n",
    "import time\n",
    "\n",
    "start_time = time.time()\n",
    "a = np.random.randint(100,size=(4,4))\n",
    "b = np.random.randint(100,size=(4,))\n",
    "print(\"Mang a la:\\n \" , a)\n",
    "print(\"Mang b la:\\n \" , b)\n",
    "resultA = np.mean(a)\n",
    "resultB = np.mean(b)\n",
    "end_time = time.time()\n",
    "print('Trung binh cac phan tu trong mang a la: ' , resultA)\n",
    "print('Trung binh cac phan tu trong mang a la: ' , resultB)\n",
    "print('Tong thoi gian thuc hien: %fs' % (end_time - start_time))"
   ]
  },
  {
   "cell_type": "code",
   "execution_count": 132,
   "metadata": {},
   "outputs": [
    {
     "name": "stdout",
     "output_type": "stream",
     "text": [
      "686\n",
      "Tong cua mang la:  686\n"
     ]
    }
   ],
   "source": [
    "def SimpleSumArray(a):\n",
    "    sum = 0\n",
    "    for element in a:\n",
    "        sum+=element\n",
    "    return sum\n",
    "def result(a):\n",
    "    sum = 0\n",
    "    for element in a:\n",
    "        sum+=element\n",
    "    return sum\n",
    "#SumArray(a)\n",
    "#print(SumArray(a))\n",
    "print(result(SumArray(a)))\n",
    "\n",
    "# cách thường dùng\n",
    "sum = 0\n",
    "for i in range(len(a)):\n",
    "    for j in range(len(a)):\n",
    "        sum += a[i][j]\n",
    "print(\"Tong cua mang la: \", sum)"
   ]
  },
  {
   "cell_type": "code",
   "execution_count": 133,
   "metadata": {},
   "outputs": [
    {
     "name": "stdout",
     "output_type": "stream",
     "text": [
      "Tong cua mang khi dung numpy:  686\n"
     ]
    }
   ],
   "source": [
    "import numpy as np\n",
    "print(\"Tong cua mang khi dung numpy: \", np.sum(a))"
   ]
  },
  {
   "cell_type": "code",
   "execution_count": 187,
   "metadata": {},
   "outputs": [
    {
     "name": "stdout",
     "output_type": "stream",
     "text": [
      "MAX =  97\n",
      "MiN =  2\n",
      "Tong thoi gian thuc hien: 0.000990s\n"
     ]
    }
   ],
   "source": [
    "import numpy as np\n",
    "import time\n",
    "\n",
    "start_time = time.time()\n",
    "print(\"MAX = \",np.max(a))\n",
    "print(\"MiN = \", np.min(a))\n",
    "end_time = time.time()\n",
    "print('Tong thoi gian thuc hien: %fs' % (end_time - start_time))"
   ]
  },
  {
   "cell_type": "code",
   "execution_count": 180,
   "metadata": {},
   "outputs": [
    {
     "name": "stdout",
     "output_type": "stream",
     "text": [
      "MAX =  97\n",
      "MIN =  2\n",
      "Tong thoi gian thuc hien: 0.001001s\n"
     ]
    }
   ],
   "source": [
    "import time\n",
    "\n",
    "start_time = time.time()\n",
    "max= -10**9\n",
    "min = 10**9\n",
    "for i in range(len(a)):\n",
    "    for j in range(len(a)):\n",
    "        if max<a[i][j]:\n",
    "            max = a[i][j]\n",
    "        if min>a[i][j]:\n",
    "            min = a[i][j]\n",
    "end_time = time.time()\n",
    "print(\"MAX = \",max)\n",
    "print(\"MIN = \",min)\n",
    "print('Tong thoi gian thuc hien: %fs' % (end_time - start_time))"
   ]
  },
  {
   "cell_type": "code",
   "execution_count": null,
   "metadata": {},
   "outputs": [],
   "source": []
  }
 ],
 "metadata": {
  "kernelspec": {
   "display_name": "Python 3",
   "language": "python",
   "name": "python3"
  },
  "language_info": {
   "codemirror_mode": {
    "name": "ipython",
    "version": 3
   },
   "file_extension": ".py",
   "mimetype": "text/x-python",
   "name": "python",
   "nbconvert_exporter": "python",
   "pygments_lexer": "ipython3",
   "version": "3.8.3"
  }
 },
 "nbformat": 4,
 "nbformat_minor": 4
}
